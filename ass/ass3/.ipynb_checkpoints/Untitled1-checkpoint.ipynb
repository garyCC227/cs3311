{
 "cells": [
  {
   "cell_type": "code",
   "execution_count": 106,
   "metadata": {},
   "outputs": [],
   "source": [
    "import psycopg2\n",
    "import sys\n",
    "\n",
    "\n",
    "DAYMAP = {\n",
    "  'Mon':1,\n",
    "  'Tue':2,\n",
    "  'Wed':3,\n",
    "  'Thu':4,\n",
    "  'Fri':5,\n",
    "  'Sat':6,\n",
    "  'Sun':7\n",
    "}\n",
    "\n",
    "DAYMAP2 = {\n",
    "  1:'Mon',\n",
    "  2:'Tue',\n",
    "  3:'Wed',\n",
    "  4:'Thu',\n",
    "  5:'Fri',\n",
    "  6:'Sat',\n",
    "  7:'Sun'\n",
    "}\n",
    "\n",
    "class Room:\n",
    "  def __init__(self, room, day, starting, ending, wk):\n",
    "    self.room = room\n",
    "    self.tt = {}\n",
    "    day = DAYMAP[day]\n",
    "    #tt is timetable -> list of (day, start, end, weeks binary)\n",
    "    self.tt[day] = [(day, starting, ending, wk)]\n",
    "  \n",
    "  def __str__(self):\n",
    "    string = \"{}\\n\".format(self.room)\n",
    "    for num_day, classes in self.tt.items():\n",
    "      string += \"  {}\\n\".format(DAYMAP2[num_day])\n",
    "      for day, start, end, wk in classes:\n",
    "        string += \"    {}-{}: {}\\n\".format(start, end, wk)\n",
    "    \n",
    "    return string\n",
    "  \n",
    "  def get_avg_hour(self):\n",
    "    t_hour = 0\n",
    "    for day_cls in self.tt.values():\n",
    "      for day, starting, ending, wk in day_cls:\n",
    "        t_hour += count_time(ending - starting, wk)\n",
    "  \n",
    "    return t_hour/10\n",
    "    \n",
    "  def add(self, day, starting ,ending ,wk):\n",
    "    day = DAYMAP[day]\n",
    "    if day not in self.tt.keys():\n",
    "      self.tt[day] = [(day, starting, ending, wk)]\n",
    "    else:\n",
    "      #remove overlap class\n",
    "      temp_cls = [(day, starting, ending, wk)]\n",
    "      for cl in self.tt[day]:\n",
    "        temp_cls = self.solve(temp_cls, cl)\n",
    "\n",
    "      #update timetable\n",
    "      for cls in temp_cls:\n",
    "        self.tt[day].append(cls)\n",
    "  \n",
    "  #only called from add -> day is formatted from DAYMAP already\n",
    "  def solve(self,temp_cls, cl):\n",
    "    new_cls = []\n",
    "    old_day, old_starting, old_ending, old_wk = cl\n",
    "    \n",
    "    for day, starting, ending, wk in temp_cls:\n",
    "      #if overlap\n",
    "      if old_starting <= starting and starting < old_ending:\n",
    "        #diff wk\n",
    "        count, diff_cls = self.get_exceed_with_diff_wks(day, starting, ending, wk, cl)\n",
    "        if count > 0:\n",
    "          new_cls.append(diff_cls)\n",
    "        \n",
    "        #exceed same week\n",
    "        count, same_cls = self.get_exceed_with_same_wks(day, starting, ending, wk, cl)\n",
    "        if count > 0:\n",
    "#           print(self.room, cl, (day, starting, ending, wk))\n",
    "          new_cls.append(same_cls)\n",
    "    \n",
    "    if not new_cls:\n",
    "      return temp_cls\n",
    "    else:\n",
    "      return new_cls\n",
    "  \n",
    "  def get_exceed_with_same_wks(self, day, starting, ending, wk, cl):\n",
    "    old_day, old_starting, old_ending, old_wk = cl\n",
    "    #check exceed time\n",
    "    exceed_time = ending - old_ending\n",
    "    if exceed_time <= 0:\n",
    "      return -1, (day,0,0,\"00000000000\")\n",
    "    \n",
    "    #exceed_time > 0 \n",
    "    new_starting = old_ending\n",
    "    \n",
    "    result = \"\"\n",
    "    count = 0\n",
    "    for i in range(11):\n",
    "      if wk[i] == \"1\" and old_wk[i] == \"1\":\n",
    "        result += '1'\n",
    "        count += 1\n",
    "      else:\n",
    "        result += '0'\n",
    "\n",
    "    return count, (day, new_starting, ending, result)\n",
    "    \n",
    "  def get_exceed_with_diff_wks(self, day,starting, ending, wk, cl):\n",
    "    old_day, old_starting, old_ending, old_wk = cl\n",
    "    result = \"\"\n",
    "    count = 0\n",
    "    for i in range(11):\n",
    "      if wk[i] == \"1\" and old_wk[i] == \"0\":\n",
    "        result += '1'\n",
    "        count += 1\n",
    "      else:\n",
    "        result += '0'\n",
    "    \n",
    "    return count, (day, starting, ending, result)\n",
    "\n",
    "def q7(conn, key):\n",
    "  # select term\n",
    "  if key == '19T1':\n",
    "    key = '1'\n",
    "  elif key == '19T2':\n",
    "    key = '2'\n",
    "  elif key == '19T3':\n",
    "    key = '3'\n",
    "  else:\n",
    "    raise ValueError(\"Invalid Term\", key)\n",
    "\n",
    "  cur = conn.cursor()\n",
    "  query = '''\n",
    "  select room, day, starting, ending, weeks from T{}rooms2 where room = ' K-J18-116A';\n",
    "  '''.format(key)\n",
    "\n",
    "  cur.execute(query)\n",
    "  rows = cur.fetchall() #the rows is order by room, day, start_time, end_time\n",
    "                        # so start_time of next row always >= start_time of previous\n",
    "  rooms = reformat(rows)\n",
    "\n",
    "  underused = 0\n",
    "  for r in rooms:\n",
    "    if r.get_avg_hour() < 20:\n",
    "      underused +=1\n",
    "  \n",
    "  print(underused)\n",
    "  # get total_rooms\n",
    "  sum_query = '''\n",
    "  select sum(count) from (\n",
    "    (select count(*) from rooms where code ~* '^K-.*' group by id)) as Foo;\n",
    "  '''\n",
    "  cur.execute(sum_query)\n",
    "  total_rooms = cur.fetchone()[0]\n",
    "  \n",
    "  #get how many rooms used in T?\n",
    "  T_rooms_query = '''\n",
    "  select count(*) from (\n",
    "  (select distinct room from T{}rooms)) as Foo; \n",
    "  '''.format(key)\n",
    "  cur.execute(T_rooms_query)\n",
    "  T_rooms = cur.fetchone()[0]\n",
    "  \n",
    "  #unused room + underused room / total_ rooms\n",
    "  result = ((total_rooms - T_rooms) + underused) / total_rooms\n",
    "  print(\"{:.1%}\".format(result))\n",
    "  \n",
    "# return as hours for wk1-10\n",
    "def count_time(time, wk):\n",
    "  count = 0\n",
    "  # dont care about wk11\n",
    "  for i in range(10):\n",
    "    if wk[i] == '1':\n",
    "      count += 1\n",
    "  \n",
    "  #calculating time\n",
    "  hr = time // 100 * count \n",
    "  extra = 0.5 if (time % 100 == 30) or (time % 100 == 70) else 0\n",
    "  extra *= count\n",
    "  \n",
    "  # return as hours\n",
    "  return hr + extra\n",
    "\n",
    "def reformat(rows):\n",
    "  store = {}\n",
    "  for room, day, start, end, wk in rows:\n",
    "    if room in store.keys():\n",
    "      store[room].add(day, start, end, wk)\n",
    "    else:\n",
    "      store[room] = Room(room, day, start, end, wk)\n",
    "  \n",
    "  return list(store.values())\n",
    "      \n",
    "# def get_no_overlap(start, end, wk, classes):\n",
    "#   final_wk = list(wk)\n",
    "#   for old_start, old_end, old_wk in classes:\n",
    "#     # if overlap\n",
    "#     if old_start <= start and start < old_end:\n",
    "      \n",
    "      \n",
    "\n",
    "# def extra_time(end, old_end):\n",
    "#   extra = end - old_end\n",
    "#   if extra <= 0:\n",
    "#     return 0\n",
    "#   else:\n",
    "#     return extra\n"
   ]
  },
  {
   "cell_type": "code",
   "execution_count": 107,
   "metadata": {},
   "outputs": [],
   "source": [
    "  \n",
    "def connect(key):\n",
    "  conn = psycopg2.connect(\"dbname=a3 user=postgres password=chenqq227\") #TODO: delete\n",
    "\n",
    "  q7(conn, key)\n",
    "\n",
    "  conn.close()\n"
   ]
  },
  {
   "cell_type": "code",
   "execution_count": 112,
   "metadata": {},
   "outputs": [
    {
     "name": "stdout",
     "output_type": "stream",
     "text": [
      "155\n",
      "61.6%\n"
     ]
    }
   ],
   "source": [
    "key = '19T2'\n",
    "connect(key)"
   ]
  },
  {
   "cell_type": "code",
   "execution_count": 8,
   "metadata": {},
   "outputs": [],
   "source": [
    "def temp(wk, old):\n",
    "  result = \"\"\n",
    "  for i in range(11):\n",
    "    if wk[i] == \"1\" and old[i] == \"0\":\n",
    "      result += '1'\n",
    "    else:\n",
    "      result += '0'\n",
    "  print(result)\n",
    "    "
   ]
  },
  {
   "cell_type": "code",
   "execution_count": 12,
   "metadata": {},
   "outputs": [
    {
     "name": "stdout",
     "output_type": "stream",
     "text": [
      "00000000000\n"
     ]
    }
   ],
   "source": [
    "temp(\"00000000000\",\"0000000000\")"
   ]
  },
  {
   "cell_type": "code",
   "execution_count": 98,
   "metadata": {},
   "outputs": [
    {
     "data": {
      "text/plain": [
       "288"
      ]
     },
     "execution_count": 98,
     "metadata": {},
     "output_type": "execute_result"
    }
   ],
   "source": [
    "158+130"
   ]
  },
  {
   "cell_type": "code",
   "execution_count": 99,
   "metadata": {},
   "outputs": [
    {
     "data": {
      "text/plain": [
       "0.5669291338582677"
      ]
     },
     "execution_count": 99,
     "metadata": {},
     "output_type": "execute_result"
    }
   ],
   "source": [
    "288 / 508"
   ]
  },
  {
   "cell_type": "code",
   "execution_count": 1,
   "metadata": {},
   "outputs": [],
   "source": [
    "x = [1]"
   ]
  },
  {
   "cell_type": "code",
   "execution_count": 4,
   "metadata": {},
   "outputs": [],
   "source": [
    "x.insert(0, 2)"
   ]
  },
  {
   "cell_type": "code",
   "execution_count": 5,
   "metadata": {},
   "outputs": [
    {
     "data": {
      "text/plain": [
       "[2, 1, 1]"
      ]
     },
     "execution_count": 5,
     "metadata": {},
     "output_type": "execute_result"
    }
   ],
   "source": [
    "x"
   ]
  },
  {
   "cell_type": "code",
   "execution_count": 41,
   "metadata": {},
   "outputs": [],
   "source": [
    "\n",
    "\n"
   ]
  },
  {
   "cell_type": "code",
   "execution_count": 45,
   "metadata": {},
   "outputs": [
    {
     "name": "stdout",
     "output_type": "stream",
     "text": [
      "(2, 1100, 1200, '10000000000')\n"
     ]
    },
    {
     "data": {
      "text/plain": [
       "[(2, 1100, 1200, '10000000000')]"
      ]
     },
     "execution_count": 45,
     "metadata": {},
     "output_type": "execute_result"
    }
   ],
   "source": [
    "solve([(2, 1000, 1200, \"10000000000\")], (2, 1000, 1100, \"10100000000\"))"
   ]
  },
  {
   "cell_type": "code",
   "execution_count": 33,
   "metadata": {},
   "outputs": [],
   "source": [
    "def get_exceed_with_same_wks(day, starting, ending, wk, cl):\n",
    "  old_day, old_starting, old_ending, old_wk = cl\n",
    "  #check exceed time\n",
    "  exceed_time = ending - old_ending\n",
    "  if exceed_time <= 0:\n",
    "    return -1, (day,0,0,\"00000000000\")\n",
    "\n",
    "  #exceed_time > 0 \n",
    "  new_starting = old_ending\n",
    "\n",
    "  result = \"\"\n",
    "  count = 0\n",
    "  for i in range(11):\n",
    "    if wk[i] == \"1\" and old_wk[i] == \"1\":\n",
    "      result += '1'\n",
    "      count += 1\n",
    "    else:\n",
    "      result += '0'\n",
    "\n",
    "  return count, (day, new_starting, ending, result)\n",
    "\n",
    "def get_exceed_with_diff_wks( day,starting, ending, wk, cl):\n",
    "  old_day, old_starting, old_ending, old_wk = cl\n",
    "  result = \"\"\n",
    "  count = 0\n",
    "  for i in range(11):\n",
    "    if wk[i] == \"1\" and old_wk[i] == \"0\":\n",
    "      result += '1'\n",
    "      count += 1\n",
    "    else:\n",
    "      result += '0'\n",
    "\n",
    "  return count, (day, starting, ending, result)"
   ]
  },
  {
   "cell_type": "code",
   "execution_count": 34,
   "metadata": {},
   "outputs": [
    {
     "data": {
      "text/plain": [
       "(1, (2, 1100, 1200, '10000000000'))"
      ]
     },
     "execution_count": 34,
     "metadata": {},
     "output_type": "execute_result"
    }
   ],
   "source": [
    "get_exceed_with_same_wks(2, 1000, 1200, \"11000000000\", (2, 1000, 1100, \"10100000000\"))"
   ]
  },
  {
   "cell_type": "code",
   "execution_count": 46,
   "metadata": {},
   "outputs": [],
   "source": [
    "temp_cls = [(2, 1000, 1200, \"11000000000\")]"
   ]
  },
  {
   "cell_type": "code",
   "execution_count": 47,
   "metadata": {},
   "outputs": [],
   "source": [
    "temp_cls2 = [(2, 1000, 1200, \"11000000000\")]"
   ]
  },
  {
   "cell_type": "code",
   "execution_count": 48,
   "metadata": {},
   "outputs": [
    {
     "data": {
      "text/plain": [
       "True"
      ]
     },
     "execution_count": 48,
     "metadata": {},
     "output_type": "execute_result"
    }
   ],
   "source": [
    "temp_cls == temp_cls2"
   ]
  },
  {
   "cell_type": "code",
   "execution_count": null,
   "metadata": {},
   "outputs": [],
   "source": []
  }
 ],
 "metadata": {
  "kernelspec": {
   "display_name": "Python 3",
   "language": "python",
   "name": "python3"
  },
  "language_info": {
   "codemirror_mode": {
    "name": "ipython",
    "version": 3
   },
   "file_extension": ".py",
   "mimetype": "text/x-python",
   "name": "python",
   "nbconvert_exporter": "python",
   "pygments_lexer": "ipython3",
   "version": "3.6.8"
  },
  "varInspector": {
   "cols": {
    "lenName": 16,
    "lenType": 16,
    "lenVar": 40
   },
   "kernels_config": {
    "python": {
     "delete_cmd_postfix": "",
     "delete_cmd_prefix": "del ",
     "library": "var_list.py",
     "varRefreshCmd": "print(var_dic_list())"
    },
    "r": {
     "delete_cmd_postfix": ") ",
     "delete_cmd_prefix": "rm(",
     "library": "var_list.r",
     "varRefreshCmd": "cat(var_dic_list()) "
    }
   },
   "types_to_exclude": [
    "module",
    "function",
    "builtin_function_or_method",
    "instance",
    "_Feature"
   ],
   "window_display": false
  }
 },
 "nbformat": 4,
 "nbformat_minor": 2
}
