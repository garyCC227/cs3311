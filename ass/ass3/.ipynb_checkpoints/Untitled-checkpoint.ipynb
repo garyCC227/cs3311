{
 "cells": [
  {
   "cell_type": "code",
   "execution_count": 4,
   "metadata": {},
   "outputs": [],
   "source": [
    "import psycopg2"
   ]
  },
  {
   "cell_type": "code",
   "execution_count": 77,
   "metadata": {},
   "outputs": [],
   "source": [
    "def q1(conn):\n",
    "  cur=conn.cursor()\n",
    "  # create view for enrollment in each class\n",
    "  view_query = '''\n",
    "  create or replace view Enrolled\n",
    "  as\n",
    "  select course_id, count(*) as num from course_enrolments \n",
    "  group by course_id;\n",
    "  '''\n",
    "  cur.execute(view_query)\n",
    "  conn.commit()\n",
    "  \n",
    "  #get the courses as required\n",
    "  # as term_id 5199 = 19T3\n",
    "  solution_query='''\n",
    "  select s.code, c.quota, e.num from courses c\n",
    "  join Enrolled e on c.id = e.course_id\n",
    "  join subjects s on c.subject_id = s.id\n",
    "  where c.quota > 50 and c.term_id = 5199\n",
    "        and e.num > c.quota\n",
    "  order by s.code;\n",
    "  '''\n",
    "  cur.execute(solution_query)\n",
    "  result_table=cur.fetchall()\n",
    "  for row in result_table:\n",
    "    print(\"{0} {1:.0%}\".format(row[0], row[2]/row[1]))"
   ]
  },
  {
   "cell_type": "code",
   "execution_count": 78,
   "metadata": {},
   "outputs": [],
   "source": [
    "def connect():\n",
    "  try:\n",
    "    conn = psycopg2.connect(\"dbname=a3 user=postgres password=chenqq227\")\n",
    "    q1(conn)\n",
    "    conn.close()\n",
    "  except Exception as e:\n",
    "    print(\"Couldn't connect to the database:\", e)"
   ]
  },
  {
   "cell_type": "code",
   "execution_count": 79,
   "metadata": {},
   "outputs": [
    {
     "name": "stdout",
     "output_type": "stream",
     "text": [
      "ARCH1322 102%\n",
      "COMM1000 119%\n",
      "COMP9020 125%\n",
      "COMP9021 114%\n",
      "CVEN9710 108%\n",
      "FINS5510 106%\n",
      "GSOE9210 127%\n",
      "INST3900 101%\n",
      "LAND2313 105%\n",
      "MBAX9131 295%\n",
      "PATH2201 103%\n",
      "PATH2202 111%\n",
      "PHCM9012 278%\n",
      "PHCM9748 321%\n",
      "PLAN2007 101%\n",
      "SDES2116 103%\n",
      "SDES9211 103%\n",
      "SDES9214 107%\n"
     ]
    }
   ],
   "source": [
    "connect()"
   ]
  },
  {
   "cell_type": "code",
   "execution_count": 2,
   "metadata": {},
   "outputs": [],
   "source": [
    "query = '''\n",
    "    select b.name, T2C.code from classes cl \n",
    "    join\n",
    "    (select c.id, s.code from courses c\n",
    "    join subjects s on s.id = c.subject_id   \n",
    "    where term_id = 5196 and s.code ~* '^{}.*') as T2C\n",
    "    on T2C.id = cl.course_id\n",
    "    join meetings m on m.class_id = cl.id\n",
    "    join rooms r on r.id = m.room_id\n",
    "    join buildings b on b.id = r.within\n",
    "    group by b.name, T2C.code\n",
    "    order by b.name, T2C.code;\n",
    "  '''.format(\"sss\")"
   ]
  },
  {
   "cell_type": "code",
   "execution_count": 3,
   "metadata": {},
   "outputs": [
    {
     "data": {
      "text/plain": [
       "\"\\n    select b.name, T2C.code from classes cl \\n    join\\n    (select c.id, s.code from courses c\\n    join subjects s on s.id = c.subject_id   \\n    where term_id = 5196 and s.code ~* '^sss.*') as T2C\\n    on T2C.id = cl.course_id\\n    join meetings m on m.class_id = cl.id\\n    join rooms r on r.id = m.room_id\\n    join buildings b on b.id = r.within\\n    group by b.name, T2C.code\\n    order by b.name, T2C.code;\\n  \""
      ]
     },
     "execution_count": 3,
     "metadata": {},
     "output_type": "execute_result"
    }
   ],
   "source": [
    "query"
   ]
  },
  {
   "cell_type": "code",
   "execution_count": 4,
   "metadata": {},
   "outputs": [],
   "source": [
    "a = {1:1,2:2}"
   ]
  },
  {
   "cell_type": "code",
   "execution_count": 5,
   "metadata": {},
   "outputs": [
    {
     "name": "stdout",
     "output_type": "stream",
     "text": [
      "1 1\n",
      "2 2\n"
     ]
    }
   ],
   "source": [
    "for key, code in a.items():\n",
    "  print(key, code)"
   ]
  },
  {
   "cell_type": "code",
   "execution_count": 6,
   "metadata": {},
   "outputs": [],
   "source": [
    "dict = [('B',1),('A',2),('A',1)]"
   ]
  },
  {
   "cell_type": "code",
   "execution_count": 9,
   "metadata": {},
   "outputs": [
    {
     "ename": "IndexError",
     "evalue": "string index out of range",
     "output_type": "error",
     "traceback": [
      "\u001b[0;31m---------------------------------------------------------------------------\u001b[0m",
      "\u001b[0;31mIndexError\u001b[0m                                Traceback (most recent call last)",
      "\u001b[0;32m<ipython-input-9-11f2af10b350>\u001b[0m in \u001b[0;36m<module>\u001b[0;34m\u001b[0m\n\u001b[0;32m----> 1\u001b[0;31m \u001b[0;32mfor\u001b[0m \u001b[0mkey\u001b[0m\u001b[0;34m,\u001b[0m \u001b[0mvalue\u001b[0m \u001b[0;32min\u001b[0m \u001b[0msorted\u001b[0m\u001b[0;34m(\u001b[0m\u001b[0mdict\u001b[0m\u001b[0;34m,\u001b[0m \u001b[0mkey\u001b[0m\u001b[0;34m=\u001b[0m\u001b[0;32mlambda\u001b[0m \u001b[0mx\u001b[0m\u001b[0;34m:\u001b[0m\u001b[0;34m(\u001b[0m\u001b[0mx\u001b[0m\u001b[0;34m[\u001b[0m\u001b[0;36m0\u001b[0m\u001b[0;34m]\u001b[0m\u001b[0;34m,\u001b[0m\u001b[0mx\u001b[0m\u001b[0;34m[\u001b[0m\u001b[0;36m1\u001b[0m\u001b[0;34m]\u001b[0m\u001b[0;34m)\u001b[0m\u001b[0;34m)\u001b[0m\u001b[0;34m:\u001b[0m\u001b[0;34m\u001b[0m\u001b[0;34m\u001b[0m\u001b[0m\n\u001b[0m\u001b[1;32m      2\u001b[0m   \u001b[0mprint\u001b[0m\u001b[0;34m(\u001b[0m\u001b[0mkey\u001b[0m\u001b[0;34m,\u001b[0m \u001b[0mvalue\u001b[0m\u001b[0;34m)\u001b[0m\u001b[0;34m\u001b[0m\u001b[0;34m\u001b[0m\u001b[0m\n",
      "\u001b[0;32m<ipython-input-9-11f2af10b350>\u001b[0m in \u001b[0;36m<lambda>\u001b[0;34m(x)\u001b[0m\n\u001b[0;32m----> 1\u001b[0;31m \u001b[0;32mfor\u001b[0m \u001b[0mkey\u001b[0m\u001b[0;34m,\u001b[0m \u001b[0mvalue\u001b[0m \u001b[0;32min\u001b[0m \u001b[0msorted\u001b[0m\u001b[0;34m(\u001b[0m\u001b[0mdict\u001b[0m\u001b[0;34m,\u001b[0m \u001b[0mkey\u001b[0m\u001b[0;34m=\u001b[0m\u001b[0;32mlambda\u001b[0m \u001b[0mx\u001b[0m\u001b[0;34m:\u001b[0m\u001b[0;34m(\u001b[0m\u001b[0mx\u001b[0m\u001b[0;34m[\u001b[0m\u001b[0;36m0\u001b[0m\u001b[0;34m]\u001b[0m\u001b[0;34m,\u001b[0m\u001b[0mx\u001b[0m\u001b[0;34m[\u001b[0m\u001b[0;36m1\u001b[0m\u001b[0;34m]\u001b[0m\u001b[0;34m)\u001b[0m\u001b[0;34m)\u001b[0m\u001b[0;34m:\u001b[0m\u001b[0;34m\u001b[0m\u001b[0;34m\u001b[0m\u001b[0m\n\u001b[0m\u001b[1;32m      2\u001b[0m   \u001b[0mprint\u001b[0m\u001b[0;34m(\u001b[0m\u001b[0mkey\u001b[0m\u001b[0;34m,\u001b[0m \u001b[0mvalue\u001b[0m\u001b[0;34m)\u001b[0m\u001b[0;34m\u001b[0m\u001b[0;34m\u001b[0m\u001b[0m\n",
      "\u001b[0;31mIndexError\u001b[0m: string index out of range"
     ]
    }
   ],
   "source": [
    "for key in sorted(dict, key=lambda x:(x[0],x[1])):\n",
    "  print(key, value)"
   ]
  },
  {
   "cell_type": "code",
   "execution_count": null,
   "metadata": {},
   "outputs": [],
   "source": []
  }
 ],
 "metadata": {
  "kernelspec": {
   "display_name": "Python 3",
   "language": "python",
   "name": "python3"
  },
  "language_info": {
   "codemirror_mode": {
    "name": "ipython",
    "version": 3
   },
   "file_extension": ".py",
   "mimetype": "text/x-python",
   "name": "python",
   "nbconvert_exporter": "python",
   "pygments_lexer": "ipython3",
   "version": "3.6.8"
  },
  "varInspector": {
   "cols": {
    "lenName": 16,
    "lenType": 16,
    "lenVar": 40
   },
   "kernels_config": {
    "python": {
     "delete_cmd_postfix": "",
     "delete_cmd_prefix": "del ",
     "library": "var_list.py",
     "varRefreshCmd": "print(var_dic_list())"
    },
    "r": {
     "delete_cmd_postfix": ") ",
     "delete_cmd_prefix": "rm(",
     "library": "var_list.r",
     "varRefreshCmd": "cat(var_dic_list()) "
    }
   },
   "types_to_exclude": [
    "module",
    "function",
    "builtin_function_or_method",
    "instance",
    "_Feature"
   ],
   "window_display": false
  }
 },
 "nbformat": 4,
 "nbformat_minor": 2
}
