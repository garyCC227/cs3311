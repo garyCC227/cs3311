{
 "cells": [
  {
   "cell_type": "code",
   "execution_count": 4,
   "metadata": {},
   "outputs": [
    {
     "name": "stderr",
     "output_type": "stream",
     "text": [
      "/home/garycc227/.venv/lib/python3.6/site-packages/psycopg2/__init__.py:144: UserWarning: The psycopg2 wheel package will be renamed from release 2.8; in order to keep installing from binary please use \"pip install psycopg2-binary\" instead. For details see: <http://initd.org/psycopg/docs/install.html#binary-install-from-pypi>.\n",
      "  \"\"\")\n"
     ]
    }
   ],
   "source": [
    "import psycopg2\n",
    "import re"
   ]
  },
  {
   "cell_type": "code",
   "execution_count": 62,
   "metadata": {},
   "outputs": [],
   "source": [
    "# we assume all the string only contains the char [1-11, <, N]\n",
    "# I checked it already\n",
    "def convert(string):\n",
    "  wk_binary = ['0','0','0','0','0','0','0','0','0','0','0']\n",
    "  \n",
    "  # check if invalid char in the string\n",
    "  if '<' in string or 'N' in string:\n",
    "    return \"\".join(wk_binary)\n",
    "  \n",
    "  #NOTE: Assume there is only two possible and valid format in wks\n",
    "  # \"1-5\", or \"1\", \"5\"\n",
    "  wks = string.split(',')\n",
    "  \n",
    "  #update wk_binary\n",
    "  for wk in wks:\n",
    "    # if is \"1-5\" format\n",
    "    if '-' in wk:\n",
    "      start, end = wk.split('-')\n",
    "      for w in range(int(start)-1, int(end)):\n",
    "        wk_binary[w] = \"1\"\n",
    "    \n",
    "    # format \"1\" or \"5\"\n",
    "    else:\n",
    "        wk_binary[int(wk)-1] = \"1\"\n",
    "  \n",
    "  return \"\".join(wk_binary)\n",
    "  \n",
    "def q6(conn):\n",
    "  cur=conn.cursor()\n",
    "  #get the courses as required\n",
    "  # as term_id 5199 = 19T3\n",
    "  solution_query='''\n",
    "  select id,weeks from meetings;\n",
    "  '''\n",
    "  cur.execute(solution_query)\n",
    "  result_table=cur.fetchall()\n",
    "  for mid, wks in result_table:\n",
    "    my_binary = convert(wks)\n",
    "    \n",
    "    # TEST convert()\n",
    "    #if binary != my_binary:\n",
    "    #  print(\"my:{}, actual:{}\".format(my_binary, binary))\n",
    "    #  raise ValueError(\"No Match-> my:{}, actual:{}\".format(my_binary, binary))\n",
    "    \n",
    "    #update table\n",
    "#     print(my_binary)\n",
    "    query = '''\n",
    "    update meetings \n",
    "    set \n",
    "      weeks_binary='{0}'\n",
    "    where\n",
    "      id={1}\n",
    "    '''.format(my_binary,mid)\n",
    "    cur.execute(query)\n",
    "\n",
    "  conn.commit()\n",
    "  cur.execute(\"select weeks_binary from meetings\")\n",
    "  for row in cur.fetchall():\n",
    "    print(row[0])\n"
   ]
  },
  {
   "cell_type": "code",
   "execution_count": 63,
   "metadata": {},
   "outputs": [],
   "source": [
    "def connect():\n",
    "  try:\n",
    "    conn = psycopg2.connect(\"dbname=a3 user=postgres password=chenqq227\")\n",
    "    q6(conn)\n",
    "#     temp(conn)\n",
    "    conn.close()\n",
    "  except Exception as e:\n",
    "    print(\"Couldn't connect to the database:\", e)"
   ]
  },
  {
   "cell_type": "code",
   "execution_count": null,
   "metadata": {},
   "outputs": [],
   "source": []
  }
 ],
 "metadata": {
  "kernelspec": {
   "display_name": "Python 3",
   "language": "python",
   "name": "python3"
  },
  "language_info": {
   "codemirror_mode": {
    "name": "ipython",
    "version": 3
   },
   "file_extension": ".py",
   "mimetype": "text/x-python",
   "name": "python",
   "nbconvert_exporter": "python",
   "pygments_lexer": "ipython3",
   "version": "3.6.8"
  },
  "varInspector": {
   "cols": {
    "lenName": 16,
    "lenType": 16,
    "lenVar": 40
   },
   "kernels_config": {
    "python": {
     "delete_cmd_postfix": "",
     "delete_cmd_prefix": "del ",
     "library": "var_list.py",
     "varRefreshCmd": "print(var_dic_list())"
    },
    "r": {
     "delete_cmd_postfix": ") ",
     "delete_cmd_prefix": "rm(",
     "library": "var_list.r",
     "varRefreshCmd": "cat(var_dic_list()) "
    }
   },
   "types_to_exclude": [
    "module",
    "function",
    "builtin_function_or_method",
    "instance",
    "_Feature"
   ],
   "window_display": false
  }
 },
 "nbformat": 4,
 "nbformat_minor": 2
}
