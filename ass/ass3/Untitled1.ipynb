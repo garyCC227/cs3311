{
 "cells": [
  {
   "cell_type": "code",
   "execution_count": 114,
   "metadata": {},
   "outputs": [],
   "source": [
    "import psycopg2\n",
    "\n",
    "def q2(conn):\n",
    "  #TODO: option for T1,2,3\n",
    "  cur = conn.cursor()\n",
    "  query = '''\n",
    "  select room, day, starting, ending, weeks from T1rooms;\n",
    "  '''\n",
    "  cur.execute(query)\n",
    "  rows = cur.fetchall() #the rows is order by room, day, start_time, end_time\n",
    "                        # so start_time of next row always >= start_time of previous\n",
    "  store = dict()\n",
    "  for room, day, start, end, wk in rows:\n",
    "    if room in store.keys():\n",
    "      store[room] += count_time((end-start), wk)   \n",
    "#       print(room, day, start, end, wk)\n",
    "#       print(count_time((end - start),wk)) \n",
    "    else:\n",
    "      #first see this room\n",
    "      #calculating total hour normally, and store data into dict \n",
    "#       print(room, day, start, end, wk)\n",
    "#       print(count_time((end - start),wk))\n",
    "      store[room] = count_time((end - start),wk)\n",
    "      \n",
    "  \n",
    "  underused = 0\n",
    "  for hours in store.values():\n",
    "    if (hours/10) < 20:\n",
    "      underused += 1\n",
    "  \n",
    "  # get total_rooms\n",
    "  sum_query = '''\n",
    "  select sum(count) from (\n",
    "    (select count(*) from rooms where code ~* '^K-.*' group by id)) as Foo;\n",
    "  '''\n",
    "  cur.execute(sum_query)\n",
    "  total_rooms = cur.fetchone()[0]\n",
    "  \n",
    "  #get how many rooms used in T?\n",
    "  T_rooms_query = '''\n",
    "  select count(*) from (\n",
    "  (select distinct room from T1rooms)) as Foo; \n",
    "  '''#TODO: fix T123\n",
    "  cur.execute(T_rooms_query)\n",
    "  T_rooms = cur.fetchone()[0]\n",
    "  \n",
    "  #unused room + underused room / total_ rooms\n",
    "  result = ((total_rooms - T_rooms) + underused) / total_rooms\n",
    "  print(\"{:.1%}\".format(result))\n",
    "  \n",
    "  \n",
    "  \n",
    "# def get_no_overlap(start, end, wk, classes):\n",
    "#   final_wk = list(wk)\n",
    "#   for old_start, old_end, old_wk in classes:\n",
    "#     # if overlap\n",
    "#     if old_start <= start and start < old_end:\n",
    "      \n",
    "      \n",
    "\n",
    "# def extra_time(end, old_end):\n",
    "#   extra = end - old_end\n",
    "#   if extra <= 0:\n",
    "#     return 0\n",
    "#   else:\n",
    "#     return extra\n",
    "  \n",
    "# return as hours for wk1-10\n",
    "def count_time(time, wk):\n",
    "  count = 0\n",
    "  # dont care about wk11\n",
    "  for i in range(10):\n",
    "    if wk[i] == '1':\n",
    "      count += 1\n",
    "  \n",
    "  #calculating time\n",
    "  hr = time // 100 * count \n",
    "  extra = 0.5 if (time % 100 == 30) or (time % 100 == 70) else 0\n",
    "  extra *= count\n",
    "  \n",
    "  # return as hours\n",
    "  return hr + extra\n",
    "  \n",
    "def connect():\n",
    "  try:\n",
    "    conn = psycopg2.connect(\"dbname=a3 user=postgres password=chenqq227\") #TODO: delete\n",
    "\n",
    "    q2(conn)\n",
    "\n",
    "    conn.close()\n",
    "  except Exception as e:\n",
    "    print(\"Cannot connect the database: \", e)\n"
   ]
  },
  {
   "cell_type": "code",
   "execution_count": 115,
   "metadata": {},
   "outputs": [
    {
     "name": "stdout",
     "output_type": "stream",
     "text": [
      "51.4%\n"
     ]
    }
   ],
   "source": [
    "connect()"
   ]
  },
  {
   "cell_type": "code",
   "execution_count": 55,
   "metadata": {},
   "outputs": [
    {
     "data": {
      "text/plain": [
       "0.5669291338582677"
      ]
     },
     "execution_count": 55,
     "metadata": {},
     "output_type": "execute_result"
    }
   ],
   "source": [
    "288 / 508"
   ]
  },
  {
   "cell_type": "code",
   "execution_count": 72,
   "metadata": {},
   "outputs": [
    {
     "data": {
      "text/plain": [
       "158"
      ]
     },
     "execution_count": 72,
     "metadata": {},
     "output_type": "execute_result"
    }
   ],
   "source": [
    "508 - 350"
   ]
  },
  {
   "cell_type": "code",
   "execution_count": 98,
   "metadata": {},
   "outputs": [
    {
     "data": {
      "text/plain": [
       "288"
      ]
     },
     "execution_count": 98,
     "metadata": {},
     "output_type": "execute_result"
    }
   ],
   "source": [
    "158+130"
   ]
  },
  {
   "cell_type": "code",
   "execution_count": 99,
   "metadata": {},
   "outputs": [
    {
     "data": {
      "text/plain": [
       "0.5669291338582677"
      ]
     },
     "execution_count": 99,
     "metadata": {},
     "output_type": "execute_result"
    }
   ],
   "source": [
    "288 / 508"
   ]
  },
  {
   "cell_type": "code",
   "execution_count": 1,
   "metadata": {},
   "outputs": [],
   "source": [
    "x = [1]"
   ]
  },
  {
   "cell_type": "code",
   "execution_count": 4,
   "metadata": {},
   "outputs": [],
   "source": [
    "x.insert(0, 2)"
   ]
  },
  {
   "cell_type": "code",
   "execution_count": 5,
   "metadata": {},
   "outputs": [
    {
     "data": {
      "text/plain": [
       "[2, 1, 1]"
      ]
     },
     "execution_count": 5,
     "metadata": {},
     "output_type": "execute_result"
    }
   ],
   "source": [
    "x"
   ]
  },
  {
   "cell_type": "code",
   "execution_count": null,
   "metadata": {},
   "outputs": [],
   "source": []
  }
 ],
 "metadata": {
  "kernelspec": {
   "display_name": "Python 3",
   "language": "python",
   "name": "python3"
  },
  "language_info": {
   "codemirror_mode": {
    "name": "ipython",
    "version": 3
   },
   "file_extension": ".py",
   "mimetype": "text/x-python",
   "name": "python",
   "nbconvert_exporter": "python",
   "pygments_lexer": "ipython3",
   "version": "3.6.8"
  },
  "varInspector": {
   "cols": {
    "lenName": 16,
    "lenType": 16,
    "lenVar": 40
   },
   "kernels_config": {
    "python": {
     "delete_cmd_postfix": "",
     "delete_cmd_prefix": "del ",
     "library": "var_list.py",
     "varRefreshCmd": "print(var_dic_list())"
    },
    "r": {
     "delete_cmd_postfix": ") ",
     "delete_cmd_prefix": "rm(",
     "library": "var_list.r",
     "varRefreshCmd": "cat(var_dic_list()) "
    }
   },
   "types_to_exclude": [
    "module",
    "function",
    "builtin_function_or_method",
    "instance",
    "_Feature"
   ],
   "window_display": false
  }
 },
 "nbformat": 4,
 "nbformat_minor": 2
}
