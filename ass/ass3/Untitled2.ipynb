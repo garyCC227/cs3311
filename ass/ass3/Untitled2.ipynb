{
 "cells": [
  {
   "cell_type": "code",
   "execution_count": null,
   "metadata": {},
   "outputs": [],
   "source": []
  },
  {
   "cell_type": "code",
   "execution_count": 343,
   "metadata": {},
   "outputs": [],
   "source": [
    "import psycopg2\n",
    "import sys\n",
    "import copy\n",
    "\n",
    "DAYMAP = {\n",
    "  'Mon':1,\n",
    "  'Tue':2,\n",
    "  'Wed':3,\n",
    "  'Thu':4,\n",
    "  'Fri':5\n",
    "}\n",
    "DAYMAP2 = {\n",
    "  1:'Mon',\n",
    "  2:'Tue',\n",
    "  3:'Wed',\n",
    "  4:'Thu',\n",
    "  5:'Fri'\n",
    "}\n",
    "class Class:\n",
    "  def __init__(self, cl_id, cl_ty, code, day, start, end):\n",
    "    self.cl_id = cl_id\n",
    "    self.classes = [(start, end, day,code, cl_ty)]\n",
    "  \n",
    "  #same class?\n",
    "  def is_same(self, cl_id):\n",
    "    return self.cl_id == cl_id\n",
    "  \n",
    "  def add(self, cl_ty, code, day, start, end):\n",
    "    self.classes.append((start, end, day,code, cl_ty))\n",
    "  \n",
    "  def __str__(self):\n",
    "    string = \"{}\\n\".format(self.cl_id)\n",
    "    for start, end, day,code, cl_ty in self.classes:\n",
    "      string += \"  {} {}:{} {}-{}\\n\".format(code, cl_ty, day,start, end)\n",
    "    \n",
    "    return string\n",
    "  \n",
    "class TT:\n",
    "  def __init__(self):\n",
    "    '''\n",
    "    timetable_dict = {\n",
    "     cl_ids:(include class_id),\n",
    "     days:(include days)\n",
    "     lt_day:(latest day)\n",
    "     timetable:{\n",
    "       1:[(900, 1000, COMP1511, Lecture, class_id)]\n",
    "       2:\n",
    "       ...\n",
    "     }\n",
    "    }\n",
    "    '''\n",
    "    self.cl_ids = set()\n",
    "    self.days = set()\n",
    "    self.t_hours = 0.0\n",
    "    self.lt_day = 0\n",
    "    self.tt = {}\n",
    "  \n",
    "  def __str__(self):\n",
    "    string = \"Total hours: {0:.1F}\\n\".format(self.total_hour())\n",
    "    for day, classes in sorted(self.tt.items(), key=lambda kv:kv[0]):\n",
    "      string += \"  {}\\n\".format(DAYMAP2[day])\n",
    "      for start, end, code, cl_type, *_ in sorted(classes, key=lambda x: (x[0], x[1])):\n",
    "        string +=\"    {} {}: {}-{}\\n\".format(code, cl_type, start, end)\n",
    "    \n",
    "    return string\n",
    "  \n",
    "  \n",
    "  def total_hour(self):\n",
    "    self.t_hours = 0.0\n",
    "    for day, classes in self.tt.items():\n",
    "      sorted_cl = sorted(classes, key=lambda x:(x[0], x[1]))\n",
    "      # latest end - earliest start\n",
    "      self.t_hours += (self.count_time(sorted_cl[-1][1] - sorted_cl[0][0]) + 2)\n",
    "    \n",
    "    return self.t_hours\n",
    "      \n",
    "  #return true if clash\n",
    "  def clash(self,cl):\n",
    "    for start, end, char_day, *_ in cl.classes:\n",
    "      # check day\n",
    "      day = DAYMAP[char_day]\n",
    "      if day not in self.tt.keys():\n",
    "        continue\n",
    "\n",
    "      # check all the time in that day\n",
    "      for old_start, old_end, *_ in self.tt[day]:\n",
    "        if start >= old_end or end <= old_start:\n",
    "          continue\n",
    "        else:\n",
    "          return True\n",
    "\n",
    "    return False\n",
    "  \n",
    "  # return as hours for wk1-10\n",
    "  def count_time(self,time):\n",
    "    #calculating time\n",
    "    hr = time // 100 \n",
    "    extra = 0.5 if (time % 100 == 30) or (time % 100 == 70) else 0\n",
    "\n",
    "    # return as hours\n",
    "    return hr + extra\n",
    "  \n",
    "  def add(self, cl):\n",
    "    self.cl_ids.add(cl.cl_id)\n",
    "    for start, end, char_day, code,cl_ty in cl.classes:\n",
    "      day = DAYMAP[char_day]\n",
    "      \n",
    "      self.days.add(day)\n",
    "      self.lt_day = max(day, self.lt_day)\n",
    "\n",
    "      # add to timetable\n",
    "      if day in self.tt.keys():\n",
    "        self.tt[day].append((start, end, code, cl_ty, cl.cl_id))\n",
    "      else:\n",
    "        self.tt[day] = [(start, end, code, cl_ty, cl.cl_id)]\n",
    "    \n",
    "def q8(conn, codes):\n",
    "  cur = conn.cursor()\n",
    "  # find all possible class time\n",
    "  class_time = find_class_time(cur,codes)\n",
    "\n",
    "  #permute all possible timetable\n",
    "  empty_tt = TT()\n",
    "  temp_tts = [empty_tt]\n",
    "  for classes in class_time:\n",
    "    # if empty classes -> web stream\n",
    "    if not classes:\n",
    "      continue\n",
    "      \n",
    "    temp_tts = permute_tt(temp_tts, classes)\n",
    "  \n",
    "  #find the best timetable\n",
    "  tt = find_best_tt(temp_tts)\n",
    "  print(tt)\n",
    "\n",
    "\n",
    "'''\n",
    "- In cases where two timetables generate the same number of hours spent on campus or commuting, \n",
    "choose the timetable which has the fewer days on campus\n",
    "\n",
    "'''\n",
    "def find_best_tt(tts):\n",
    "  #find the minimal total hours\n",
    "  min_hr = 1000000\n",
    "  # calculating the total hours for all timetables\n",
    "  for tt in tts:\n",
    "    tt.total_hour()\n",
    "  \n",
    "  for tt in tts:\n",
    "    min_hr = min(tt.t_hours, min_hr)\n",
    "    \n",
    "  #get the table with t_total hour == minimal total hours\n",
    "  min_tts = []\n",
    "  for tt in tts:\n",
    "    if tt.t_hours == min_hr:\n",
    "      min_tts.append(tt)\n",
    "\n",
    "  if len(min_tts) > 1:\n",
    "    #find the fewer days\n",
    "    return find_fewer_days(min_tts)\n",
    "  elif len(min_tts) == 1:\n",
    "    return min_tts[0]\n",
    "  else:\n",
    "    print(\"this should never happend\")\n",
    "\n",
    "'''\n",
    "- In cases where two timetables have the same number of days on campus, \n",
    "choose the timetable that has all of the classes done as early as possible in the week,\n",
    "'''\n",
    "def find_fewer_days(tts):\n",
    "  min_days = 10000\n",
    "  for tt in tts:\n",
    "    min_days = min(len(tt.days), min_days)\n",
    "  \n",
    "  min_tts = []\n",
    "  for tt in tts:\n",
    "    if len(tt.days) == min_days:\n",
    "      min_tts.append(tt)\n",
    "  \n",
    "  if len(min_tts) > 1:\n",
    "    return find_early_class(min_tts)\n",
    "  elif len(min_tts) == 1:\n",
    "    return min_tts[0]\n",
    "  else:\n",
    "    print(\"this should never happend\")\n",
    "\n",
    "    \n",
    "def find_early_class(tts):\n",
    "  lt_day = 10000\n",
    "  for tt in tts:\n",
    "    lt_day = min(tt.lt_day, lt_day)\n",
    "  \n",
    "  min_tts = []\n",
    "  for tt in tts:\n",
    "    if tt.lt_day == lt_day:\n",
    "      min_tts.append(tt)\n",
    "  \n",
    "  if len(min_tts) > 1:\n",
    "    return find_final_tt(min_tts, lt_day)\n",
    "  elif len(min_tts) == 1:\n",
    "    return min_tts[0]\n",
    "  else:\n",
    "    print(\"this should never happend\")\n",
    "\n",
    "    \n",
    "def find_final_tt(tts, lt_day): \n",
    "  \n",
    "  #get the latest hour for first timetable\n",
    "  curr_t = tts[0]\n",
    "  lt_hr = find_latest_hour(curr_t)\n",
    "  for t in tts[1:]: \n",
    "    curr_lt_hr = find_latest_hour(curr_t)\n",
    "    if curr_lt_hr < lt_hr:\n",
    "      lt_hr = curr_lt_hr\n",
    "      curr_t = t\n",
    "      \n",
    "  return curr_t\n",
    "\n",
    "#if the latest day are the same, we use this method to find the eariest leave school time\n",
    "def find_latest_hour(one_tt):\n",
    "  lt_hour = 100000\n",
    "  for day in one_tt.tt.keys():\n",
    "    curr_lt_hour = sorted(one_tt.tt[day], key=lambda x:(x[0], x[1]))[-1][1]\n",
    "    lt_hour = min(curr_lt_hour, lt_hour)\n",
    "  return lt_hour\n",
    "  \n",
    "#tt = timetable\n",
    "def permute_tt(tts, classes):\n",
    "  # build time table dict\n",
    "  new_tts = []\n",
    "  seen_class = set()\n",
    "  for cl in classes:\n",
    "#     print(cl_id, code, cl_ty, day, start, end)\n",
    "    # if the class in not seen \n",
    "    if cl.cl_id not in seen_class:\n",
    "      for tt in tts:\n",
    "        # if not clash, we build a new timetable\n",
    "        if not tt.clash(cl):\n",
    "          #add to seen class\n",
    "          seen_class.add(cl.cl_id)\n",
    "          temp_tt = copy.deepcopy(tt)\n",
    "          temp_tt.add(cl)\n",
    "          new_tts.append(temp_tt)\n",
    "        else:\n",
    "        # if clash, we ignore this timetable\n",
    "          continue\n",
    "          \n",
    "      \n",
    "    else:\n",
    "    # if the class is seen\n",
    "      # loop through the new_tt, and add the class into that tt\n",
    "      pending_remove = []\n",
    "      for tt in new_tts:\n",
    "        #ignore the irrelevant timetable\n",
    "        if cl_id not in tt.cl_ids:\n",
    "          continue\n",
    "        \n",
    "        #so we find the timetable here\n",
    "        if tt.clash(cl):\n",
    "          pending_remove.append(tt)\n",
    "        else:\n",
    "          tt.add(cl)\n",
    "      \n",
    "      if not pending_remove:\n",
    "        for rm_tt in pending_remove:\n",
    "          new_tts.remove(rm_tt)\n",
    "      \n",
    "    seen_class.add(cl.cl_id)\n",
    "    \n",
    "  return new_tts\n",
    "          \n",
    "def find_class_time(cur, codes):\n",
    "  #format\n",
    "  #[[one dimension for all classes time for the one of the class type of one course ]]\n",
    "  classes = []\n",
    "  \n",
    "  for code in codes:\n",
    "    # find all possible class type\n",
    "    query = '''\n",
    "      select ct.name from courses c\n",
    "      join classes cl on cl.course_id = c.id\n",
    "      join classtypes ct on cl.type_id = ct.id\n",
    "      join subjects s on c.subject_id = s.id\n",
    "      where c.term_id = 5199 and s.code='{}'\n",
    "      group by ct.name;\n",
    "    '''.format(code)\n",
    "    cur.execute(query)\n",
    "    rows = cur.fetchall()\n",
    "\n",
    "    #each class type find all the possible class time\n",
    "    for cl_type, in rows:\n",
    "      query = '''\n",
    "        select cl.id as class_id, s.code, ct.name, m.day, m.start_time, m.end_time from courses c\n",
    "        join subjects s on c.subject_id = s.id\n",
    "        join classes cl on c.id = cl.course_id\n",
    "        join classtypes ct on cl.type_id = ct.id\n",
    "        join meetings m on m.class_id = cl.id\n",
    "        where c.term_id = 5199 and s.code='{}' and ct.name='{}'\n",
    "        order by ct.name,  m.day,cl.tag desc,m.start_time, m.end_time;\n",
    "      '''.format(code, cl_type)\n",
    "      cur.execute(query)\n",
    "      rows = cur.fetchall()\n",
    "      if cl_type == 'Lecture':\n",
    "        classes.insert(0, rows)\n",
    "      else:\n",
    "        classes.append(rows)    \n",
    "  \n",
    "  \n",
    "  return reset_format(classes)\n",
    "\n",
    "def reset_format(classes):\n",
    "  result = []\n",
    "  for cls in classes: \n",
    "    #each rows\n",
    "    each_cl = {}\n",
    "    for cl_id, code, cl_ty, day, start, end in cls:\n",
    "      if cl_id not in each_cl.keys():\n",
    "        each_cl[cl_id] = Class(cl_id, cl_ty, code, day, start, end)\n",
    "      else:\n",
    "        each_cl[cl_id].add(cl_ty, code, day, start, end)\n",
    "    \n",
    "    result.append(list(each_cl.values()))\n",
    "  \n",
    "  return result\n",
    "    \n",
    "def connect(codes):\n",
    "  try:\n",
    "    conn = psycopg2.connect(\"dbname=a3 user=postgres password=chenqq227\") #TODO: delete\n",
    "\n",
    "    q8(conn, codes)\n",
    "\n",
    "    conn.close()\n",
    "  except Exception as e:\n",
    "    print(\"Cannot connect the database: \", e)"
   ]
  },
  {
   "cell_type": "code",
   "execution_count": 344,
   "metadata": {},
   "outputs": [
    {
     "name": "stdout",
     "output_type": "stream",
     "text": [
      "Total hours: 33.0\n",
      "  Mon\n",
      "    MATH1141 Lecture: 1100-1300\n",
      "    MATH1141 Tutorial: 1300-1400\n",
      "  Tue\n",
      "    MATH1081 Lecture: 1100-1300\n",
      "    MATH1141 Other: 1300-1400\n",
      "    MATH1081 Tutorial: 1400-1500\n",
      "  Wed\n",
      "    MATH1081 Lecture: 900-1100\n",
      "    COMP1511 Tute/Lab: 1100-1200\n",
      "    COMP1511 Tute/Lab: 1200-1400\n",
      "    COMP1511 Lecture: 1400-1600\n",
      "  Thu\n",
      "    COMP1511 Lecture: 900-1100\n",
      "    MATH1081 Other: 1100-1200\n",
      "    MATH1141 Lecture: 1200-1400\n",
      "  Fri\n",
      "    MATH1081 Tutorial: 1000-1100\n",
      "    MATH1141 Lecture: 1200-1300\n",
      "    MATH1081 Lecture: 1300-1400\n",
      "\n"
     ]
    }
   ],
   "source": [
    "codes = ['COMP1511', 'MATH1131']\n",
    "codes = ['COMP3311']\n",
    "codes = ['COMP3331']\n",
    "codes = ['COMP3311', 'COMP3331']\n",
    "# codes = ['COMP1521','COMP1531','COMP2521']\n",
    "# codes = ['COMP1521', 'COMP1531','MATH1081'] \n",
    "# codes = ['COMP2511','COMP3311','PSYC1023']\n",
    "codes = ['COMP1511','MATH1141','MATH1081']\n",
    "connect(codes)"
   ]
  },
  {
   "cell_type": "code",
   "execution_count": 322,
   "metadata": {},
   "outputs": [
    {
     "ename": "SyntaxError",
     "evalue": "invalid syntax (<ipython-input-322-260790f5756c>, line 1)",
     "output_type": "error",
     "traceback": [
      "\u001b[0;36m  File \u001b[0;32m\"<ipython-input-322-260790f5756c>\"\u001b[0;36m, line \u001b[0;32m1\u001b[0m\n\u001b[0;31m    Total hours:28\u001b[0m\n\u001b[0m              ^\u001b[0m\n\u001b[0;31mSyntaxError\u001b[0m\u001b[0;31m:\u001b[0m invalid syntax\n"
     ]
    }
   ],
   "source": [
    "Total hours:28\n",
    "  Mon\n",
    "    COMP1531 Lecture: 1600-1800\n",
    "  Tue\n",
    "    COMP2521 Lecture: 1600-1800\n",
    "  Wed\n",
    "    COMP1521 Lecture: 1100-1300\n",
    "    COMP2521 Tute/Lab: 1300-1400\n",
    "  Thu\n",
    "    COMP1521 Lecture: 900-1100\n",
    "    COMP1531 Tute/Lab: 1100-1200\n",
    "    COMP1521 Tute/Lab: 1300-1400\n",
    "    COMP1521 Tute/Lab: 1400-1600\n",
    "    COMP1531 Lecture: 1600-1800\n",
    "  Fri\n",
    "    COMP2521 Lecture: 1600-1800"
   ]
  },
  {
   "cell_type": "code",
   "execution_count": 205,
   "metadata": {},
   "outputs": [],
   "source": [
    "x = [(900, 1000), (1100, 1400), (1000, 1100), (1400, 1500)]"
   ]
  },
  {
   "cell_type": "code",
   "execution_count": 206,
   "metadata": {},
   "outputs": [
    {
     "data": {
      "text/plain": [
       "[(900, 1000), (1000, 1100), (1100, 1400), (1400, 1500)]"
      ]
     },
     "execution_count": 206,
     "metadata": {},
     "output_type": "execute_result"
    }
   ],
   "source": [
    "x = sorted(x, key=lambda x:(x[0], x[1]))\n",
    "x"
   ]
  },
  {
   "cell_type": "code",
   "execution_count": 175,
   "metadata": {},
   "outputs": [
    {
     "data": {
      "text/plain": [
       "[1,\n",
       " 1,\n",
       " (900, 1000),\n",
       " (1000, 1100),\n",
       " (1100, 1400),\n",
       " (1400, 1500),\n",
       " [<__main__.TT at 0x7f371f0e3c88>, <__main__.TT at 0x7f371f0e3710>]]"
      ]
     },
     "execution_count": 175,
     "metadata": {},
     "output_type": "execute_result"
    }
   ],
   "source": [
    "x.insert(0,1)\n",
    "x"
   ]
  },
  {
   "cell_type": "code",
   "execution_count": 150,
   "metadata": {},
   "outputs": [],
   "source": [
    "t1 = TT()\n",
    "t2 = TT()\n",
    "t2.t_hours = 50"
   ]
  },
  {
   "cell_type": "code",
   "execution_count": 156,
   "metadata": {},
   "outputs": [],
   "source": [
    "y = []\n",
    "y.append(t1)\n",
    "y.append(t2)"
   ]
  },
  {
   "cell_type": "code",
   "execution_count": 160,
   "metadata": {},
   "outputs": [],
   "source": [
    "y.remove(t1)"
   ]
  },
  {
   "cell_type": "code",
   "execution_count": 162,
   "metadata": {},
   "outputs": [],
   "source": [
    "y.remove(t2)"
   ]
  },
  {
   "cell_type": "code",
   "execution_count": 267,
   "metadata": {},
   "outputs": [],
   "source": [
    "a = [1,2,3,4,5,4]"
   ]
  },
  {
   "cell_type": "code",
   "execution_count": 268,
   "metadata": {},
   "outputs": [
    {
     "data": {
      "text/plain": [
       "[1, 2, 3, 4, 5, 4]"
      ]
     },
     "execution_count": 268,
     "metadata": {},
     "output_type": "execute_result"
    }
   ],
   "source": [
    "a[:]"
   ]
  },
  {
   "cell_type": "code",
   "execution_count": 269,
   "metadata": {},
   "outputs": [
    {
     "name": "stdout",
     "output_type": "stream",
     "text": [
      "1\n",
      "[2, 3, 4, 5, 4]\n",
      "3\n",
      "[2, 4, 5, 4]\n",
      "5\n",
      "[2, 4, 4]\n"
     ]
    }
   ],
   "source": [
    "for i in a:\n",
    "  print(i)\n",
    "  a.remove(i)\n",
    "  print(a)"
   ]
  },
  {
   "cell_type": "code",
   "execution_count": 290,
   "metadata": {},
   "outputs": [],
   "source": [
    "y = {1:2,1:3,3:1}"
   ]
  },
  {
   "cell_type": "code",
   "execution_count": 291,
   "metadata": {},
   "outputs": [
    {
     "name": "stdout",
     "output_type": "stream",
     "text": [
      "dict_values([3, 1])\n"
     ]
    }
   ],
   "source": [
    "print(y.values())"
   ]
  },
  {
   "cell_type": "code",
   "execution_count": 330,
   "metadata": {},
   "outputs": [
    {
     "data": {
      "text/plain": [
       "'1.0'"
      ]
     },
     "execution_count": 330,
     "metadata": {},
     "output_type": "execute_result"
    }
   ],
   "source": [
    "\"{0:.1F}\".format(1)"
   ]
  },
  {
   "cell_type": "code",
   "execution_count": null,
   "metadata": {},
   "outputs": [],
   "source": []
  },
  {
   "cell_type": "code",
   "execution_count": null,
   "metadata": {},
   "outputs": [],
   "source": []
  }
 ],
 "metadata": {
  "kernelspec": {
   "display_name": "Python 3",
   "language": "python",
   "name": "python3"
  },
  "language_info": {
   "codemirror_mode": {
    "name": "ipython",
    "version": 3
   },
   "file_extension": ".py",
   "mimetype": "text/x-python",
   "name": "python",
   "nbconvert_exporter": "python",
   "pygments_lexer": "ipython3",
   "version": "3.6.8"
  },
  "varInspector": {
   "cols": {
    "lenName": 16,
    "lenType": 16,
    "lenVar": 40
   },
   "kernels_config": {
    "python": {
     "delete_cmd_postfix": "",
     "delete_cmd_prefix": "del ",
     "library": "var_list.py",
     "varRefreshCmd": "print(var_dic_list())"
    },
    "r": {
     "delete_cmd_postfix": ") ",
     "delete_cmd_prefix": "rm(",
     "library": "var_list.r",
     "varRefreshCmd": "cat(var_dic_list()) "
    }
   },
   "types_to_exclude": [
    "module",
    "function",
    "builtin_function_or_method",
    "instance",
    "_Feature"
   ],
   "window_display": false
  }
 },
 "nbformat": 4,
 "nbformat_minor": 2
}
